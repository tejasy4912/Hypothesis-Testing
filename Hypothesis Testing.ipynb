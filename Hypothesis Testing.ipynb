{
 "cells": [
  {
   "cell_type": "markdown",
   "id": "290f9f91",
   "metadata": {},
   "source": [
    "# Hypothesis Testing: "
   ]
  },
  {
   "cell_type": "markdown",
   "id": "53b9dea8",
   "metadata": {},
   "source": [
    "### By : Tejas Yogesh Pawar\n",
    "\n",
    "**======================================================================**"
   ]
  },
  {
   "cell_type": "markdown",
   "id": "1d855958",
   "metadata": {},
   "source": [
    "### Question 1\n",
    "### Data:\n",
    "Systolic blood pressures of 14 patients are given below: {183, 152, 178, 157, 194, 163, 144, 114, 178, 152, 118, 158, 172, 138} Test, whether the\n",
    "population mean, is less than 165\n",
    "### Hypothesis\n",
    "H0: There is no significant mean difference in systolic blood pressure. i.e., μ = 165\n",
    "H1: The population mean is less than 165. i.e., μ < 165\n",
    "### Test statistic\n",
    "Where,\n",
    "x̄ is sample mean\n",
    "μ is the population mean\n",
    "s is sample standard deviation\n",
    "n is the number of observations;"
   ]
  },
  {
   "cell_type": "code",
   "execution_count": 7,
   "id": "2b15a398",
   "metadata": {},
   "outputs": [
    {
     "name": "stdout",
     "output_type": "stream",
     "text": [
      "Mean:  157.21428571428572\n",
      "test-stats:  -1.243182877661369\n",
      "p-values:  0.117877\n",
      "Result: we are accepting null hypothesis\n"
     ]
    }
   ],
   "source": [
    "from scipy.stats import ttest_1samp\n",
    "import numpy as np\n",
    "sys_bp=[183, 152, 178, 157, 194, 163, 144, 114, 178, 152, 118, 158, 172, 138]\n",
    "mean = np.mean(sys_bp)\n",
    "print(\"Mean: \",mean)\n",
    "tset, pval = ttest_1samp(sys_bp, 165)\n",
    "# Since alternative hypothesis is one tailed, We need to divide the p value by 2.\n",
    "pvall=float(\"{:.6f}\".format(pval/2))\n",
    "print('test-stats: ',tset)\n",
    "print('p-values: ',pvall)\n",
    "if pvall < 0.05: # alpha value is 0.05 or 5%\n",
    "    print(\"Result: we are rejecting null hypothesis\")\n",
    "else:\n",
    "    print(\"Result: we are accepting null hypothesis\")\n"
   ]
  },
  {
   "cell_type": "markdown",
   "id": "1eb92ffc",
   "metadata": {},
   "source": [
    "### Question 2:\n",
    "### Data:\n",
    "Compare the effectiveness of ammonium chloride and urea, on the grain yield of paddy, an experiment was conducted. The results are given\n",
    "below:\n",
    "Ammonium chloride (X1) 13.4 10.9 11.2 11.8 14 15.3 14.2 12.6 17 16.2 16.5 15.7\n",
    "Urea (X2) 12 11.7 10.7 11.2 14.8 14.4 13.9 13.7 16.9 16 15.6 16\n",
    "### Hypothesis\n",
    "H0: The effect of ammonium chloride and urea on grain yield of paddy are equal i.e., μ1 = μ2\n",
    "H1: The effect of ammonium chloride and urea on grain yield of paddy is not equal i.e., μ1 ≠ μ2\n",
    "### Test statistic\n",
    "Where,\n",
    "x̄1 and x̄2 are sample means for x1 and x2 respectively.\n",
    "n1 and n2 are the numbers of observations in x1 and x2 respectively.\n",
    "s1 and s2 are the sample standard deviation for x1 and x2 respectively."
   ]
  },
  {
   "cell_type": "code",
   "execution_count": 8,
   "id": "0b38234a",
   "metadata": {},
   "outputs": [
    {
     "name": "stdout",
     "output_type": "stream",
     "text": [
      "test stats:  0.1846496543760765\n",
      "p-value:  0.8551954147800473\n",
      "Result: we accept null hypothesis\n"
     ]
    }
   ],
   "source": [
    "from scipy.stats import ttest_ind\n",
    "import numpy as np\n",
    "ammonium = [13.4,10.9,11.2,11.8,14,15.3,14.2,12.6,17,16.2,16.5,15.7]\n",
    "urea = [12,11.7,10.7,11.2,14.8,14.4,13.9,13.7,16.9,16,15.6,16]\n",
    "ttest,pval = ttest_ind(ammonium,urea)\n",
    "print(\"test stats: \",ttest)\n",
    "print(\"p-value: \",pval)\n",
    "if pval <0.05:\n",
    "    print(\"Result: we reject null hypothesis\")\n",
    "else:\n",
    "    print(\"Result: we accept null hypothesis\")\n"
   ]
  },
  {
   "cell_type": "markdown",
   "id": "6bcef8d9",
   "metadata": {},
   "source": [
    "### Question 3:\n",
    "### Data:\n",
    "Eleven schoolboys were given a test in Statistics. They were given a Month’s tuition and a second test were held at the end of it. Do the marks\n",
    "give evidence that the students have benefited from the exam coaching?\n",
    "Marks in 1st test: 23 20 19 21 18 20 18 17 23 16 19\n",
    "Marks in 2nd test: 24 19 22 18 20 22 20 20 23 20 18\n",
    "### Hypothesis\n",
    "H0: The students have not benefited from the tuition class. i.e., d = 0\n",
    "H1: The students have benefited from the tuition class. i.e., d < 0\n",
    "Where, d = x-y; d is the difference between marks in the first test (say x) and marks in the second test (say y).\n",
    "### Test statistic\n",
    "Where, n is the number of samples ‘s’ is sample standard deviation"
   ]
  },
  {
   "cell_type": "code",
   "execution_count": 9,
   "id": "664eeb47",
   "metadata": {},
   "outputs": [
    {
     "name": "stdout",
     "output_type": "stream",
     "text": [
      "t-stats:  -1.7073311796734163\n",
      "p-value:  0.059282\n",
      "Result: We accept null hypothesis\n"
     ]
    }
   ],
   "source": [
    "import pandas as pd\n",
    "from scipy import stats\n",
    "first_test =[23, 20, 19, 21, 18, 20, 18, 17, 23, 16, 19]\n",
    "second_test=[24, 19, 22, 18, 20, 22, 20, 20, 23, 20, 18]\n",
    "ttest,pval = stats.ttest_rel(first_test,second_test)\n",
    "# Since alternative hypothesis is one tailed, We need to divide the p value by 2.\n",
    "pvall=float(\"{:.6f}\".format(pval/2))\n",
    "print('t-stats: ',ttest)\n",
    "print('p-value: ',pvall)\n",
    "if pvall<0.05:\n",
    "    print(\"Result: We reject null hypothesis\")\n",
    "else:\n",
    "    print(\"Result: We accept null hypothesis\")"
   ]
  }
 ],
 "metadata": {
  "kernelspec": {
   "display_name": "Python 3",
   "language": "python",
   "name": "python3"
  },
  "language_info": {
   "codemirror_mode": {
    "name": "ipython",
    "version": 3
   },
   "file_extension": ".py",
   "mimetype": "text/x-python",
   "name": "python",
   "nbconvert_exporter": "python",
   "pygments_lexer": "ipython3",
   "version": "3.8.8"
  }
 },
 "nbformat": 4,
 "nbformat_minor": 5
}
